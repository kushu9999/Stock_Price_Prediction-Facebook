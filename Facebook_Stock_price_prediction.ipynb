{
  "nbformat": 4,
  "nbformat_minor": 0,
  "metadata": {
    "colab": {
      "name": "Facebook-Stock_price_prediction.ipynb",
      "provenance": [],
      "collapsed_sections": [],
      "include_colab_link": true
    },
    "kernelspec": {
      "name": "python3",
      "display_name": "Python 3"
    },
    "accelerator": "GPU"
  },
  "cells": [
    {
      "cell_type": "markdown",
      "metadata": {
        "id": "view-in-github",
        "colab_type": "text"
      },
      "source": [
        "<a href=\"https://colab.research.google.com/github/kushu9999/Stock_Price_Prediction-Facebook/blob/master/Facebook_Stock_price_prediction.ipynb\" target=\"_parent\"><img src=\"https://colab.research.google.com/assets/colab-badge.svg\" alt=\"Open In Colab\"/></a>"
      ]
    },
    {
      "cell_type": "code",
      "metadata": {
        "id": "rp51hLboy0ZN",
        "colab_type": "code",
        "colab": {}
      },
      "source": [
        "# Importing Libraries\n",
        "\n",
        "import numpy as np\n",
        "import pandas as pd\n",
        "import matplotlib.pyplot as plt\n",
        "import quandl "
      ],
      "execution_count": 0,
      "outputs": []
    },
    {
      "cell_type": "code",
      "metadata": {
        "id": "z24SHApfzObG",
        "colab_type": "code",
        "outputId": "f0b85f45-1811-4acb-bdbc-c8919b615512",
        "colab": {
          "base_uri": "https://localhost:8080/",
          "height": 225
        }
      },
      "source": [
        "# Get the stock data\n",
        "quandl.ApiConfig.api_key = \"9hhTSLL8bY4xsx######\" # Put your api here i hide because security purposes\n",
        "dataset = quandl.get(\"WIKI/FB\")\n",
        "# View Top 5 data\n",
        "dataset.head()"
      ],
      "execution_count": 0,
      "outputs": [
        {
          "output_type": "execute_result",
          "data": {
            "text/html": [
              "<div>\n",
              "<style scoped>\n",
              "    .dataframe tbody tr th:only-of-type {\n",
              "        vertical-align: middle;\n",
              "    }\n",
              "\n",
              "    .dataframe tbody tr th {\n",
              "        vertical-align: top;\n",
              "    }\n",
              "\n",
              "    .dataframe thead th {\n",
              "        text-align: right;\n",
              "    }\n",
              "</style>\n",
              "<table border=\"1\" class=\"dataframe\">\n",
              "  <thead>\n",
              "    <tr style=\"text-align: right;\">\n",
              "      <th></th>\n",
              "      <th>Open</th>\n",
              "      <th>High</th>\n",
              "      <th>Low</th>\n",
              "      <th>Close</th>\n",
              "      <th>Volume</th>\n",
              "      <th>Ex-Dividend</th>\n",
              "      <th>Split Ratio</th>\n",
              "      <th>Adj. Open</th>\n",
              "      <th>Adj. High</th>\n",
              "      <th>Adj. Low</th>\n",
              "      <th>Adj. Close</th>\n",
              "      <th>Adj. Volume</th>\n",
              "    </tr>\n",
              "    <tr>\n",
              "      <th>Date</th>\n",
              "      <th></th>\n",
              "      <th></th>\n",
              "      <th></th>\n",
              "      <th></th>\n",
              "      <th></th>\n",
              "      <th></th>\n",
              "      <th></th>\n",
              "      <th></th>\n",
              "      <th></th>\n",
              "      <th></th>\n",
              "      <th></th>\n",
              "      <th></th>\n",
              "    </tr>\n",
              "  </thead>\n",
              "  <tbody>\n",
              "    <tr>\n",
              "      <th>2012-05-18</th>\n",
              "      <td>42.05</td>\n",
              "      <td>45.00</td>\n",
              "      <td>38.00</td>\n",
              "      <td>38.2318</td>\n",
              "      <td>573576400.0</td>\n",
              "      <td>0.0</td>\n",
              "      <td>1.0</td>\n",
              "      <td>42.05</td>\n",
              "      <td>45.00</td>\n",
              "      <td>38.00</td>\n",
              "      <td>38.2318</td>\n",
              "      <td>573576400.0</td>\n",
              "    </tr>\n",
              "    <tr>\n",
              "      <th>2012-05-21</th>\n",
              "      <td>36.53</td>\n",
              "      <td>36.66</td>\n",
              "      <td>33.00</td>\n",
              "      <td>34.0300</td>\n",
              "      <td>168192700.0</td>\n",
              "      <td>0.0</td>\n",
              "      <td>1.0</td>\n",
              "      <td>36.53</td>\n",
              "      <td>36.66</td>\n",
              "      <td>33.00</td>\n",
              "      <td>34.0300</td>\n",
              "      <td>168192700.0</td>\n",
              "    </tr>\n",
              "    <tr>\n",
              "      <th>2012-05-22</th>\n",
              "      <td>32.61</td>\n",
              "      <td>33.59</td>\n",
              "      <td>30.94</td>\n",
              "      <td>31.0000</td>\n",
              "      <td>101786600.0</td>\n",
              "      <td>0.0</td>\n",
              "      <td>1.0</td>\n",
              "      <td>32.61</td>\n",
              "      <td>33.59</td>\n",
              "      <td>30.94</td>\n",
              "      <td>31.0000</td>\n",
              "      <td>101786600.0</td>\n",
              "    </tr>\n",
              "    <tr>\n",
              "      <th>2012-05-23</th>\n",
              "      <td>31.37</td>\n",
              "      <td>32.50</td>\n",
              "      <td>31.36</td>\n",
              "      <td>32.0000</td>\n",
              "      <td>73600000.0</td>\n",
              "      <td>0.0</td>\n",
              "      <td>1.0</td>\n",
              "      <td>31.37</td>\n",
              "      <td>32.50</td>\n",
              "      <td>31.36</td>\n",
              "      <td>32.0000</td>\n",
              "      <td>73600000.0</td>\n",
              "    </tr>\n",
              "    <tr>\n",
              "      <th>2012-05-24</th>\n",
              "      <td>32.95</td>\n",
              "      <td>33.21</td>\n",
              "      <td>31.77</td>\n",
              "      <td>33.0300</td>\n",
              "      <td>50237200.0</td>\n",
              "      <td>0.0</td>\n",
              "      <td>1.0</td>\n",
              "      <td>32.95</td>\n",
              "      <td>33.21</td>\n",
              "      <td>31.77</td>\n",
              "      <td>33.0300</td>\n",
              "      <td>50237200.0</td>\n",
              "    </tr>\n",
              "  </tbody>\n",
              "</table>\n",
              "</div>"
            ],
            "text/plain": [
              "             Open   High    Low  ...  Adj. Low  Adj. Close  Adj. Volume\n",
              "Date                             ...                                   \n",
              "2012-05-18  42.05  45.00  38.00  ...     38.00     38.2318  573576400.0\n",
              "2012-05-21  36.53  36.66  33.00  ...     33.00     34.0300  168192700.0\n",
              "2012-05-22  32.61  33.59  30.94  ...     30.94     31.0000  101786600.0\n",
              "2012-05-23  31.37  32.50  31.36  ...     31.36     32.0000   73600000.0\n",
              "2012-05-24  32.95  33.21  31.77  ...     31.77     33.0300   50237200.0\n",
              "\n",
              "[5 rows x 12 columns]"
            ]
          },
          "metadata": {
            "tags": []
          },
          "execution_count": 10
        }
      ]
    },
    {
      "cell_type": "code",
      "metadata": {
        "id": "7G91pgHQ-np1",
        "colab_type": "code",
        "outputId": "88835a7d-782f-45b3-a486-a6b430d9c0b7",
        "colab": {
          "base_uri": "https://localhost:8080/",
          "height": 34
        }
      },
      "source": [
        "dataset.shape"
      ],
      "execution_count": 0,
      "outputs": [
        {
          "output_type": "execute_result",
          "data": {
            "text/plain": [
              "(1472, 12)"
            ]
          },
          "metadata": {
            "tags": []
          },
          "execution_count": 11
        }
      ]
    },
    {
      "cell_type": "markdown",
      "metadata": {
        "id": "5qwtRydt0vB7",
        "colab_type": "text"
      },
      "source": [
        "# Feature Engineering"
      ]
    },
    {
      "cell_type": "code",
      "metadata": {
        "id": "RkuNim-NCFeu",
        "colab_type": "code",
        "colab": {}
      },
      "source": [
        "# In this dataset our independent variable is Adj. Close and We Want to predict next days Adj. Close\n",
        "# So we only take Adj.close Column and all other we don't want\n",
        "dataset = dataset[['Adj. Close']]"
      ],
      "execution_count": 0,
      "outputs": []
    },
    {
      "cell_type": "code",
      "metadata": {
        "id": "nu7YzWqbCZSY",
        "colab_type": "code",
        "outputId": "ed8d86a5-33c6-4ad4-e600-ec676e0c575e",
        "colab": {
          "base_uri": "https://localhost:8080/",
          "height": 431
        }
      },
      "source": [
        "dataset"
      ],
      "execution_count": 0,
      "outputs": [
        {
          "output_type": "execute_result",
          "data": {
            "text/html": [
              "<div>\n",
              "<style scoped>\n",
              "    .dataframe tbody tr th:only-of-type {\n",
              "        vertical-align: middle;\n",
              "    }\n",
              "\n",
              "    .dataframe tbody tr th {\n",
              "        vertical-align: top;\n",
              "    }\n",
              "\n",
              "    .dataframe thead th {\n",
              "        text-align: right;\n",
              "    }\n",
              "</style>\n",
              "<table border=\"1\" class=\"dataframe\">\n",
              "  <thead>\n",
              "    <tr style=\"text-align: right;\">\n",
              "      <th></th>\n",
              "      <th>Adj. Close</th>\n",
              "    </tr>\n",
              "    <tr>\n",
              "      <th>Date</th>\n",
              "      <th></th>\n",
              "    </tr>\n",
              "  </thead>\n",
              "  <tbody>\n",
              "    <tr>\n",
              "      <th>2012-05-18</th>\n",
              "      <td>38.2318</td>\n",
              "    </tr>\n",
              "    <tr>\n",
              "      <th>2012-05-21</th>\n",
              "      <td>34.0300</td>\n",
              "    </tr>\n",
              "    <tr>\n",
              "      <th>2012-05-22</th>\n",
              "      <td>31.0000</td>\n",
              "    </tr>\n",
              "    <tr>\n",
              "      <th>2012-05-23</th>\n",
              "      <td>32.0000</td>\n",
              "    </tr>\n",
              "    <tr>\n",
              "      <th>2012-05-24</th>\n",
              "      <td>33.0300</td>\n",
              "    </tr>\n",
              "    <tr>\n",
              "      <th>...</th>\n",
              "      <td>...</td>\n",
              "    </tr>\n",
              "    <tr>\n",
              "      <th>2018-03-21</th>\n",
              "      <td>169.3900</td>\n",
              "    </tr>\n",
              "    <tr>\n",
              "      <th>2018-03-22</th>\n",
              "      <td>164.8900</td>\n",
              "    </tr>\n",
              "    <tr>\n",
              "      <th>2018-03-23</th>\n",
              "      <td>159.3900</td>\n",
              "    </tr>\n",
              "    <tr>\n",
              "      <th>2018-03-26</th>\n",
              "      <td>160.0600</td>\n",
              "    </tr>\n",
              "    <tr>\n",
              "      <th>2018-03-27</th>\n",
              "      <td>152.1900</td>\n",
              "    </tr>\n",
              "  </tbody>\n",
              "</table>\n",
              "<p>1472 rows × 1 columns</p>\n",
              "</div>"
            ],
            "text/plain": [
              "            Adj. Close\n",
              "Date                  \n",
              "2012-05-18     38.2318\n",
              "2012-05-21     34.0300\n",
              "2012-05-22     31.0000\n",
              "2012-05-23     32.0000\n",
              "2012-05-24     33.0300\n",
              "...                ...\n",
              "2018-03-21    169.3900\n",
              "2018-03-22    164.8900\n",
              "2018-03-23    159.3900\n",
              "2018-03-26    160.0600\n",
              "2018-03-27    152.1900\n",
              "\n",
              "[1472 rows x 1 columns]"
            ]
          },
          "metadata": {
            "tags": []
          },
          "execution_count": 13
        }
      ]
    },
    {
      "cell_type": "code",
      "metadata": {
        "id": "1uHAPzdy-pRh",
        "colab_type": "code",
        "colab": {}
      },
      "source": [
        "''' First we will create  a variable for predicting 'n' days out into future'''\n",
        "forecast_out = 30 # No of days of future prediction\n",
        "# Creating another column of target variable shifted 'n' units up\n",
        "dataset['prediction'] = dataset[['Adj. Close']].shift(-forecast_out)"
      ],
      "execution_count": 0,
      "outputs": []
    },
    {
      "cell_type": "code",
      "metadata": {
        "id": "vuqIUrH3BGXI",
        "colab_type": "code",
        "outputId": "e036c87b-320b-4f1a-cfd5-250f4c6b5294",
        "colab": {
          "base_uri": "https://localhost:8080/",
          "height": 225
        }
      },
      "source": [
        "dataset.head()"
      ],
      "execution_count": 0,
      "outputs": [
        {
          "output_type": "execute_result",
          "data": {
            "text/html": [
              "<div>\n",
              "<style scoped>\n",
              "    .dataframe tbody tr th:only-of-type {\n",
              "        vertical-align: middle;\n",
              "    }\n",
              "\n",
              "    .dataframe tbody tr th {\n",
              "        vertical-align: top;\n",
              "    }\n",
              "\n",
              "    .dataframe thead th {\n",
              "        text-align: right;\n",
              "    }\n",
              "</style>\n",
              "<table border=\"1\" class=\"dataframe\">\n",
              "  <thead>\n",
              "    <tr style=\"text-align: right;\">\n",
              "      <th></th>\n",
              "      <th>Adj. Close</th>\n",
              "      <th>prediction</th>\n",
              "    </tr>\n",
              "    <tr>\n",
              "      <th>Date</th>\n",
              "      <th></th>\n",
              "      <th></th>\n",
              "    </tr>\n",
              "  </thead>\n",
              "  <tbody>\n",
              "    <tr>\n",
              "      <th>2012-05-18</th>\n",
              "      <td>38.2318</td>\n",
              "      <td>30.771</td>\n",
              "    </tr>\n",
              "    <tr>\n",
              "      <th>2012-05-21</th>\n",
              "      <td>34.0300</td>\n",
              "      <td>31.200</td>\n",
              "    </tr>\n",
              "    <tr>\n",
              "      <th>2012-05-22</th>\n",
              "      <td>31.0000</td>\n",
              "      <td>31.470</td>\n",
              "    </tr>\n",
              "    <tr>\n",
              "      <th>2012-05-23</th>\n",
              "      <td>32.0000</td>\n",
              "      <td>31.730</td>\n",
              "    </tr>\n",
              "    <tr>\n",
              "      <th>2012-05-24</th>\n",
              "      <td>33.0300</td>\n",
              "      <td>32.170</td>\n",
              "    </tr>\n",
              "  </tbody>\n",
              "</table>\n",
              "</div>"
            ],
            "text/plain": [
              "            Adj. Close  prediction\n",
              "Date                              \n",
              "2012-05-18     38.2318      30.771\n",
              "2012-05-21     34.0300      31.200\n",
              "2012-05-22     31.0000      31.470\n",
              "2012-05-23     32.0000      31.730\n",
              "2012-05-24     33.0300      32.170"
            ]
          },
          "metadata": {
            "tags": []
          },
          "execution_count": 20
        }
      ]
    },
    {
      "cell_type": "code",
      "metadata": {
        "id": "ily0SM8SBRwR",
        "colab_type": "code",
        "outputId": "62a11f12-b9b3-42cc-df06-bf934101493a",
        "colab": {
          "base_uri": "https://localhost:8080/",
          "height": 225
        }
      },
      "source": [
        "dataset.tail() "
      ],
      "execution_count": 0,
      "outputs": [
        {
          "output_type": "execute_result",
          "data": {
            "text/html": [
              "<div>\n",
              "<style scoped>\n",
              "    .dataframe tbody tr th:only-of-type {\n",
              "        vertical-align: middle;\n",
              "    }\n",
              "\n",
              "    .dataframe tbody tr th {\n",
              "        vertical-align: top;\n",
              "    }\n",
              "\n",
              "    .dataframe thead th {\n",
              "        text-align: right;\n",
              "    }\n",
              "</style>\n",
              "<table border=\"1\" class=\"dataframe\">\n",
              "  <thead>\n",
              "    <tr style=\"text-align: right;\">\n",
              "      <th></th>\n",
              "      <th>Adj. Close</th>\n",
              "      <th>prediction</th>\n",
              "    </tr>\n",
              "    <tr>\n",
              "      <th>Date</th>\n",
              "      <th></th>\n",
              "      <th></th>\n",
              "    </tr>\n",
              "  </thead>\n",
              "  <tbody>\n",
              "    <tr>\n",
              "      <th>2018-03-21</th>\n",
              "      <td>169.39</td>\n",
              "      <td>NaN</td>\n",
              "    </tr>\n",
              "    <tr>\n",
              "      <th>2018-03-22</th>\n",
              "      <td>164.89</td>\n",
              "      <td>NaN</td>\n",
              "    </tr>\n",
              "    <tr>\n",
              "      <th>2018-03-23</th>\n",
              "      <td>159.39</td>\n",
              "      <td>NaN</td>\n",
              "    </tr>\n",
              "    <tr>\n",
              "      <th>2018-03-26</th>\n",
              "      <td>160.06</td>\n",
              "      <td>NaN</td>\n",
              "    </tr>\n",
              "    <tr>\n",
              "      <th>2018-03-27</th>\n",
              "      <td>152.19</td>\n",
              "      <td>NaN</td>\n",
              "    </tr>\n",
              "  </tbody>\n",
              "</table>\n",
              "</div>"
            ],
            "text/plain": [
              "            Adj. Close  prediction\n",
              "Date                              \n",
              "2018-03-21      169.39         NaN\n",
              "2018-03-22      164.89         NaN\n",
              "2018-03-23      159.39         NaN\n",
              "2018-03-26      160.06         NaN\n",
              "2018-03-27      152.19         NaN"
            ]
          },
          "metadata": {
            "tags": []
          },
          "execution_count": 21
        }
      ]
    },
    {
      "cell_type": "code",
      "metadata": {
        "id": "R3t6VRI4BmQE",
        "colab_type": "code",
        "colab": {}
      },
      "source": [
        "# As shown last 'n' days of dataset is NaN(Empty) So in next we'll remove it"
      ],
      "execution_count": 0,
      "outputs": []
    },
    {
      "cell_type": "code",
      "metadata": {
        "id": "_S1YOkKdB5t6",
        "colab_type": "code",
        "colab": {}
      },
      "source": [
        "# First we create own independent dataset (X)\n",
        "# Convert dataset into numpy array\n",
        "X = np.array(dataset.drop(['prediction'],1))\n",
        "# Remove last n Rows who is NaN\n",
        "X = X[:-forecast_out]"
      ],
      "execution_count": 0,
      "outputs": []
    },
    {
      "cell_type": "code",
      "metadata": {
        "id": "ueuOVZW7EL-R",
        "colab_type": "code",
        "outputId": "e4a7ef49-77bf-48be-bc9d-b2525e90c96a",
        "colab": {
          "base_uri": "https://localhost:8080/",
          "height": 134
        }
      },
      "source": [
        "X"
      ],
      "execution_count": 0,
      "outputs": [
        {
          "output_type": "execute_result",
          "data": {
            "text/plain": [
              "array([[ 38.2318],\n",
              "       [ 34.03  ],\n",
              "       [ 31.    ],\n",
              "       ...,\n",
              "       [171.5499],\n",
              "       [175.98  ],\n",
              "       [176.41  ]])"
            ]
          },
          "metadata": {
            "tags": []
          },
          "execution_count": 24
        }
      ]
    },
    {
      "cell_type": "code",
      "metadata": {
        "id": "uWN8gL6sENWf",
        "colab_type": "code",
        "outputId": "a4674e1a-2e37-4a9e-c30b-13bd7f9f4373",
        "colab": {
          "base_uri": "https://localhost:8080/",
          "height": 34
        }
      },
      "source": [
        "X.shape"
      ],
      "execution_count": 0,
      "outputs": [
        {
          "output_type": "execute_result",
          "data": {
            "text/plain": [
              "(1442, 1)"
            ]
          },
          "metadata": {
            "tags": []
          },
          "execution_count": 25
        }
      ]
    },
    {
      "cell_type": "code",
      "metadata": {
        "id": "qTV0Gq1rEWyY",
        "colab_type": "code",
        "colab": {}
      },
      "source": [
        "# First we have (1472)Rows and Now we have (1442)Rows \n",
        "# We Took forecast_out = 30 so thats why last 30 rows was NaN and we removed it"
      ],
      "execution_count": 0,
      "outputs": []
    },
    {
      "cell_type": "code",
      "metadata": {
        "id": "E4thjB-_E2wW",
        "colab_type": "code",
        "colab": {}
      },
      "source": [
        "# Now we creating Dependent Variable (y)\n",
        "# Convert dataset into numpy array\n",
        "y = np.array(dataset['prediction'])\n",
        "# Get all values eccept last 'n' rows\n",
        "y = y[:-forecast_out]"
      ],
      "execution_count": 0,
      "outputs": []
    },
    {
      "cell_type": "code",
      "metadata": {
        "id": "isku9nFPFxe_",
        "colab_type": "code",
        "outputId": "915c2450-3e30-42c7-9b23-8ffeeac42999",
        "colab": {
          "base_uri": "https://localhost:8080/",
          "height": 34
        }
      },
      "source": [
        "y"
      ],
      "execution_count": 0,
      "outputs": [
        {
          "output_type": "execute_result",
          "data": {
            "text/plain": [
              "array([ 30.771,  31.2  ,  31.47 , ..., 159.39 , 160.06 , 152.19 ])"
            ]
          },
          "metadata": {
            "tags": []
          },
          "execution_count": 30
        }
      ]
    },
    {
      "cell_type": "code",
      "metadata": {
        "id": "igZGGPdjGF7B",
        "colab_type": "code",
        "colab": {}
      },
      "source": [
        "# Split data into 80% training and 20% testing\n",
        "from sklearn.model_selection import train_test_split\n",
        "X_train , X_test , y_train , y_test = train_test_split(X,y,test_size=0.2)"
      ],
      "execution_count": 0,
      "outputs": []
    },
    {
      "cell_type": "code",
      "metadata": {
        "id": "ELC5RgnDG59k",
        "colab_type": "code",
        "outputId": "6f0a7fa7-5775-4ab6-e8ef-4d82377e9bbe",
        "colab": {
          "base_uri": "https://localhost:8080/",
          "height": 134
        }
      },
      "source": [
        "X_train"
      ],
      "execution_count": 0,
      "outputs": [
        {
          "output_type": "execute_result",
          "data": {
            "text/plain": [
              "array([[ 60.49],\n",
              "       [ 93.93],\n",
              "       [152.81],\n",
              "       ...,\n",
              "       [135.54],\n",
              "       [ 21.11],\n",
              "       [107.16]])"
            ]
          },
          "metadata": {
            "tags": []
          },
          "execution_count": 32
        }
      ]
    },
    {
      "cell_type": "code",
      "metadata": {
        "id": "e348YTr_HHDu",
        "colab_type": "code",
        "outputId": "e5c639ad-facf-4cab-8162-05f849217d34",
        "colab": {
          "base_uri": "https://localhost:8080/",
          "height": 34
        }
      },
      "source": [
        "X_train.shape"
      ],
      "execution_count": 0,
      "outputs": [
        {
          "output_type": "execute_result",
          "data": {
            "text/plain": [
              "(1153, 1)"
            ]
          },
          "metadata": {
            "tags": []
          },
          "execution_count": 33
        }
      ]
    },
    {
      "cell_type": "code",
      "metadata": {
        "id": "gDCUnogGHKk9",
        "colab_type": "code",
        "colab": {}
      },
      "source": [
        "# 1153 is 80% of 1442 so it's sucessfully splited"
      ],
      "execution_count": 0,
      "outputs": []
    },
    {
      "cell_type": "markdown",
      "metadata": {
        "id": "D3hhB_AWHT4k",
        "colab_type": "text"
      },
      "source": [
        "# Creating Model \n",
        "### Support vector regressor"
      ]
    },
    {
      "cell_type": "code",
      "metadata": {
        "id": "hwICmYg4HZVf",
        "colab_type": "code",
        "outputId": "ff7acdf7-50e0-4b89-82cc-cdedb8e60e2b",
        "colab": {
          "base_uri": "https://localhost:8080/",
          "height": 50
        }
      },
      "source": [
        "from sklearn.svm import SVR # Importing SVR\n",
        "model = SVR(kernel='rbf',gamma=0.1,C=1e3) # Create object of SVR\n",
        "model.fit(X_train,y_train) # Fitting dataset Into it"
      ],
      "execution_count": 0,
      "outputs": [
        {
          "output_type": "execute_result",
          "data": {
            "text/plain": [
              "SVR(C=1000.0, cache_size=200, coef0=0.0, degree=3, epsilon=0.1, gamma=0.1,\n",
              "    kernel='rbf', max_iter=-1, shrinking=True, tol=0.001, verbose=False)"
            ]
          },
          "metadata": {
            "tags": []
          },
          "execution_count": 44
        }
      ]
    },
    {
      "cell_type": "code",
      "metadata": {
        "id": "PN3uxq4_INEj",
        "colab_type": "code",
        "colab": {}
      },
      "source": [
        "# Now test the model as return score coefficient\n",
        "# Best possible score is 1.0\n",
        "confidence = model.score(X_test,y_test)"
      ],
      "execution_count": 0,
      "outputs": []
    },
    {
      "cell_type": "code",
      "metadata": {
        "id": "tKuk8zWlJfH7",
        "colab_type": "code",
        "outputId": "6cf9c94c-d4d3-49f6-fa75-3740acacabd9",
        "colab": {
          "base_uri": "https://localhost:8080/",
          "height": 34
        }
      },
      "source": [
        "confidence"
      ],
      "execution_count": 0,
      "outputs": [
        {
          "output_type": "execute_result",
          "data": {
            "text/plain": [
              "0.9858749191583221"
            ]
          },
          "metadata": {
            "tags": []
          },
          "execution_count": 46
        }
      ]
    },
    {
      "cell_type": "code",
      "metadata": {
        "id": "o-WjgKWyJgkG",
        "colab_type": "code",
        "colab": {}
      },
      "source": [
        "# we got 0.9858 it's very nearest to 1"
      ],
      "execution_count": 0,
      "outputs": []
    },
    {
      "cell_type": "markdown",
      "metadata": {
        "id": "r6zZcxyHLV_O",
        "colab_type": "text"
      },
      "source": [
        "### Creating another model \n",
        "### Random Forest Regressor"
      ]
    },
    {
      "cell_type": "code",
      "metadata": {
        "id": "lPR_qztKJztC",
        "colab_type": "code",
        "outputId": "4349c2f5-0149-43c0-d133-ff1e0d42f82f",
        "colab": {
          "base_uri": "https://localhost:8080/",
          "height": 134
        }
      },
      "source": [
        "from sklearn.ensemble import RandomForestRegressor\n",
        "modelR = RandomForestRegressor(n_estimators=300,random_state=0)\n",
        "modelR.fit(X_train,y_train)"
      ],
      "execution_count": 0,
      "outputs": [
        {
          "output_type": "execute_result",
          "data": {
            "text/plain": [
              "RandomForestRegressor(bootstrap=True, criterion='mse', max_depth=None,\n",
              "                      max_features='auto', max_leaf_nodes=None,\n",
              "                      min_impurity_decrease=0.0, min_impurity_split=None,\n",
              "                      min_samples_leaf=1, min_samples_split=2,\n",
              "                      min_weight_fraction_leaf=0.0, n_estimators=300,\n",
              "                      n_jobs=None, oob_score=False, random_state=0, verbose=0,\n",
              "                      warm_start=False)"
            ]
          },
          "metadata": {
            "tags": []
          },
          "execution_count": 53
        }
      ]
    },
    {
      "cell_type": "code",
      "metadata": {
        "id": "I06fPWdQKus-",
        "colab_type": "code",
        "colab": {}
      },
      "source": [
        "# Now test the model as return score coefficient of Random Forest\n",
        "# Best possible score is 1.0\n",
        "confidenceR = modelR.score(X_test,y_test)"
      ],
      "execution_count": 0,
      "outputs": []
    },
    {
      "cell_type": "code",
      "metadata": {
        "id": "yPQKkggeLCOI",
        "colab_type": "code",
        "outputId": "bc2f9daf-2c42-4560-dd8c-afb134f49252",
        "colab": {
          "base_uri": "https://localhost:8080/",
          "height": 34
        }
      },
      "source": [
        "confidenceR"
      ],
      "execution_count": 0,
      "outputs": [
        {
          "output_type": "execute_result",
          "data": {
            "text/plain": [
              "0.9827204480614206"
            ]
          },
          "metadata": {
            "tags": []
          },
          "execution_count": 55
        }
      ]
    },
    {
      "cell_type": "code",
      "metadata": {
        "id": "oEdmj5FCLF-M",
        "colab_type": "code",
        "colab": {}
      },
      "source": [
        "# we got 0.9827 it's also very nearest to 1\n",
        "# We can see that SVR is More good than Random Forest "
      ],
      "execution_count": 0,
      "outputs": []
    },
    {
      "cell_type": "markdown",
      "metadata": {
        "id": "nPsHKpVdMRnO",
        "colab_type": "text"
      },
      "source": [
        "# Now we'll predicting the dataset of stock market"
      ]
    },
    {
      "cell_type": "code",
      "metadata": {
        "id": "iSl3bMcyNO4G",
        "colab_type": "code",
        "colab": {}
      },
      "source": [
        "# set X_forecast equals to last 30 rows of the orihnal dataset from Adj. Close which we removed because of forecast_out\n",
        "X_forecast = np.array(dataset.drop(['prediction'],1))[-forecast_out:]\n",
        "y_forecast = np.array(dataset['prediction'])[-forecast_out:]\n"
      ],
      "execution_count": 0,
      "outputs": []
    },
    {
      "cell_type": "code",
      "metadata": {
        "id": "LXo0dU1JOlbI",
        "colab_type": "code",
        "outputId": "675873a6-6215-4a0d-9380-423483b6d9de",
        "colab": {
          "base_uri": "https://localhost:8080/",
          "height": 521
        }
      },
      "source": [
        "X_forecast"
      ],
      "execution_count": 0,
      "outputs": [
        {
          "output_type": "execute_result",
          "data": {
            "text/plain": [
              "array([[173.15],\n",
              "       [179.52],\n",
              "       [179.96],\n",
              "       [177.36],\n",
              "       [176.01],\n",
              "       [177.91],\n",
              "       [178.99],\n",
              "       [183.29],\n",
              "       [184.93],\n",
              "       [181.46],\n",
              "       [178.32],\n",
              "       [175.94],\n",
              "       [176.62],\n",
              "       [180.4 ],\n",
              "       [179.78],\n",
              "       [183.71],\n",
              "       [182.34],\n",
              "       [185.23],\n",
              "       [184.76],\n",
              "       [181.88],\n",
              "       [184.19],\n",
              "       [183.86],\n",
              "       [185.09],\n",
              "       [172.56],\n",
              "       [168.15],\n",
              "       [169.39],\n",
              "       [164.89],\n",
              "       [159.39],\n",
              "       [160.06],\n",
              "       [152.19]])"
            ]
          },
          "metadata": {
            "tags": []
          },
          "execution_count": 61
        }
      ]
    },
    {
      "cell_type": "code",
      "metadata": {
        "id": "250UXxcBVq6E",
        "colab_type": "code",
        "outputId": "c6e4ba24-ecfe-4cc0-85ba-60c261351524",
        "colab": {
          "base_uri": "https://localhost:8080/",
          "height": 67
        }
      },
      "source": [
        "y_forecast"
      ],
      "execution_count": 0,
      "outputs": [
        {
          "output_type": "execute_result",
          "data": {
            "text/plain": [
              "array([nan, nan, nan, nan, nan, nan, nan, nan, nan, nan, nan, nan, nan,\n",
              "       nan, nan, nan, nan, nan, nan, nan, nan, nan, nan, nan, nan, nan,\n",
              "       nan, nan, nan, nan])"
            ]
          },
          "metadata": {
            "tags": []
          },
          "execution_count": 72
        }
      ]
    },
    {
      "cell_type": "code",
      "metadata": {
        "id": "eNDh82-nWj67",
        "colab_type": "code",
        "colab": {}
      },
      "source": [
        "actual= np.array(dataset['Adj. Close'][1442:])"
      ],
      "execution_count": 0,
      "outputs": []
    },
    {
      "cell_type": "code",
      "metadata": {
        "id": "hRz5HMpuWrUe",
        "colab_type": "code",
        "outputId": "6a1c740a-1e85-41c3-db33-e26d343a6e76",
        "colab": {
          "base_uri": "https://localhost:8080/",
          "height": 84
        }
      },
      "source": [
        "actual"
      ],
      "execution_count": 0,
      "outputs": [
        {
          "output_type": "execute_result",
          "data": {
            "text/plain": [
              "array([173.15, 179.52, 179.96, 177.36, 176.01, 177.91, 178.99, 183.29,\n",
              "       184.93, 181.46, 178.32, 175.94, 176.62, 180.4 , 179.78, 183.71,\n",
              "       182.34, 185.23, 184.76, 181.88, 184.19, 183.86, 185.09, 172.56,\n",
              "       168.15, 169.39, 164.89, 159.39, 160.06, 152.19])"
            ]
          },
          "metadata": {
            "tags": []
          },
          "execution_count": 84
        }
      ]
    },
    {
      "cell_type": "code",
      "metadata": {
        "id": "5VES1jrWOm7N",
        "colab_type": "code",
        "outputId": "72baf373-1634-47ed-d7ef-b0625ab765f2",
        "colab": {
          "base_uri": "https://localhost:8080/",
          "height": 218
        }
      },
      "source": [
        "# print the prediction of the next 'n' days\n",
        "prediction_SVR = model.predict(X_forecast) # For SVR Model\n",
        "print(prediction_SVR)\n",
        "prediction_RF = modelR.predict(X_forecast) # For Random Forest\n",
        "print(prediction_RF)"
      ],
      "execution_count": 0,
      "outputs": [
        {
          "output_type": "stream",
          "text": [
            "[174.69430219 179.41580775 178.46890471 174.97412627 173.65955243\n",
            " 177.33529877 180.07134993 187.02644524 179.13130294 181.48540969\n",
            " 178.95742428 173.7699447  173.28454887 177.98281636 178.84576407\n",
            " 185.04884209 186.650158   178.867917   179.5570183  184.15152983\n",
            " 182.1986553  184.1737778  178.91315344 175.40011742 171.52792654\n",
            " 171.99761018 172.16510341 167.541073   166.03265059 162.07674985]\n",
            "[173.77843333 186.5522     178.42586667 183.203      169.79580667\n",
            " 176.92533333 184.65963278 186.7682     177.38363333 180.54986667\n",
            " 184.84245556 164.931749   169.61666633 178.614      178.18146667\n",
            " 180.7454     183.09173333 173.39903333 178.57376667 184.78583333\n",
            " 177.7743     179.11556667 173.39903333 181.51213333 166.06566667\n",
            " 175.3824     172.07566667 168.00996667 167.1379     164.52413333]\n"
          ],
          "name": "stdout"
        }
      ]
    },
    {
      "cell_type": "markdown",
      "metadata": {
        "id": "RZUZYDqIPXS6",
        "colab_type": "text"
      },
      "source": [
        "# Visualization"
      ]
    },
    {
      "cell_type": "code",
      "metadata": {
        "id": "O7RQIsoqSylD",
        "colab_type": "code",
        "outputId": "f0d924dd-d2fd-4d21-e086-752e6ef0e835",
        "colab": {
          "base_uri": "https://localhost:8080/",
          "height": 391
        }
      },
      "source": [
        "plt.figure(figsize=(10,6))\n",
        "#plt.scatter(X_forecast,y_forecast,color='red')\n",
        "plt.plot(prediction_SVR,color='blue')\n",
        "plt.plot(prediction_RF,color='red')\n",
        "plt.plot(actual,color='green')"
      ],
      "execution_count": 0,
      "outputs": [
        {
          "output_type": "execute_result",
          "data": {
            "text/plain": [
              "[<matplotlib.lines.Line2D at 0x7f75a3baed30>]"
            ]
          },
          "metadata": {
            "tags": []
          },
          "execution_count": 85
        },
        {
          "output_type": "display_data",
          "data": {
            "image/png": "[encoded data removed]",
            "text/plain": [
              "<Figure size 720x432 with 1 Axes>"
            ]
          },
          "metadata": {
            "tags": []
          }
        }
      ]
    },
    {
      "cell_type": "code",
      "metadata": {
        "id": "SiTCYofyTSRO",
        "colab_type": "code",
        "colab": {}
      },
      "source": [
        "# Here is Last 30 Dataset Visualization which we predicted\n",
        "''' \n",
        "Here Green color is actual price of closing share\n",
        "Here Red color is Predicted price of closing share using Supoort Vector Regression\n",
        "Here Blue color is Predicted price of closing share using random forest Regression \n",
        "\n",
        "'''\n"
      ],
      "execution_count": 0,
      "outputs": []
    }
  ]
}